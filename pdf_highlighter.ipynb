{
  "nbformat": 4,
  "nbformat_minor": 0,
  "metadata": {
    "colab": {
      "provenance": [],
      "authorship_tag": "ABX9TyN+hsSiNFKV2dW6C6qw6P1R"
    },
    "kernelspec": {
      "name": "python3",
      "display_name": "Python 3"
    },
    "language_info": {
      "name": "python"
    }
  },
  "cells": [
    {
      "cell_type": "markdown",
      "source": [
        "# Instructions\n",
        "\n",
        "How to run the code:\n",
        "1.   Hover the mouse around the \"Show code\" text to reveal the play button (if necessary).\n",
        "2.   Click the play button for each of A-C in order.\n",
        "3.   After clicking the play button C, upload the PDF layout data and the CSV wordlist using the \"Choose Files\" button.\n",
        "\n",
        "**Notes**\n",
        "\n",
        "Download the CSV template [here](https://drive.google.com/file/d/1PH4qmrRmNpnErzLm_0JSKDbz0ArO_K_7/view?usp=sharing)\n",
        "\n",
        "Depending on the size of the files, it can take up to 15 minutes or longer for the process to complete. Do not close the web browser tab or window until both output files--the highlighted PDF and summary text file--have finished downloading."
      ],
      "metadata": {
        "id": "mHpCLlBhrqys"
      }
    },
    {
      "cell_type": "code",
      "source": [
        "#@title A. Click the play button to set up the script.{display-mode: \"form\"}\n",
        "!pip install pymupdf\n",
        "!pip install frontend"
      ],
      "metadata": {
        "id": "fs5bti1oK7iS"
      },
      "execution_count": null,
      "outputs": []
    },
    {
      "cell_type": "code",
      "execution_count": null,
      "metadata": {
        "id": "qTSWiNvOA91p"
      },
      "outputs": [],
      "source": [
        "#@title B. Click the play button to initialize the script. Changing the comment name is optional.{display-mode: \"form\"}\n",
        "def comment_pdf(input_file:str, list_filename_csv:str, pages:list=None):\n",
        "    import fitz\n",
        "    from google.colab import files\n",
        "\n",
        "    comment_name = \"LCI-QA\" #@param {type:\"string\"}\n",
        "    search_list = read_csv(list_filename_csv)\n",
        "    # create matches dictionary for output summary\n",
        "    matches_record = {search[0]: 0 for search in search_list}\n",
        "    # open pdf\n",
        "    pdfIn = fitz.open(input_file)\n",
        "    # Iterate throughout pdf pages\n",
        "    for pg,page in enumerate(pdfIn):\n",
        "        pageID = pg+1\n",
        "        # If required to look in specific pages\n",
        "        if pages and pageID not in pages:\n",
        "            continue\n",
        "        # Use the search_for function to find text\n",
        "        for search_settings in search_list:\n",
        "            word, comment, color = search_settings\n",
        "            matched_values = page.search_for(word,hit_max=20)\n",
        "            if matched_values:\n",
        "                # Update matches_record\n",
        "                matches_record[word] += len(matched_values)\n",
        "                highlight_text(matched_values, page, color, comment_name, comment)\n",
        "    \n",
        "    # Save to output file\n",
        "    output_file = input_file.split(\".\")[0] + \" comments.pdf\"\n",
        "    pdfIn.save(output_file,garbage=3,deflate=True)\n",
        "    pdfIn.close()\n",
        "    \n",
        "    create_summary(input_file, output_file, comment_name, matches_record)\n",
        "\n",
        "    if output_file:\n",
        "        files.download(output_file)\n",
        "        files.download('summary.txt')\n",
        "\n",
        "def read_csv(list_filename_csv):\n",
        "    import csv\n",
        "    with open(list_filename_csv, 'r') as csv_data:\n",
        "        csv_reader = csv.reader(csv_data)\n",
        "        header = next(csv_reader) # skips the first row\n",
        "        search_list = [row for row in csv_reader]\n",
        "    return search_list\n",
        "\n",
        "def highlight_text(matched_values, page, color, comment_name, comment):\n",
        "    colors = {\n",
        "        \"red\": [0.7, 0.35, 0.5],\n",
        "        \"green\": [0.35, 0.7, 0.5],\n",
        "        \"blue\": [0.35, 0.5, 0.7]\n",
        "    }\n",
        "    for item in matched_values:\n",
        "        # Highlight found text\n",
        "        annot = page.add_highlight_annot(item)\n",
        "        if color:\n",
        "            annot.set_colors(stroke=colors[color])\n",
        "        # Add comment to the found match\n",
        "        info = annot.info\n",
        "        info[\"title\"] = comment_name\n",
        "        info[\"content\"] = comment\n",
        "        annot.set_info(info)\n",
        "        annot.update(opacity=0.4)\n",
        "\n",
        "def create_summary(input_file, output_file, comment_name, matches_record):\n",
        "    summary = {\n",
        "        \"Input File\": input_file,\n",
        "        \"Output File\": output_file,\n",
        "        \"Comment Title\": comment_name,\n",
        "        \"Matching Instances\": \"\\n\" + \"\\n\".join(\"{}: {}\".format(word, count) for word, count in matches_record.items())\n",
        "    }\n",
        "    # Export Process Summary\n",
        "    with open('summary.txt', 'w') as summary_txt:\n",
        "        summary_txt.write(\"\\n\".join(\"{}: {}\".format(i, j) for i, j in summary.items()))\n"
      ]
    },
    {
      "cell_type": "code",
      "source": [
        "#@title C. Click the play button to upload the files.{display-mode: \"form\"}\n",
        "from google.colab import files\n",
        "\n",
        "uploaded = files.upload()\n",
        "message = \"\"\n",
        "for filename in uploaded:\n",
        "    if filename.endswith(\".pdf\"):\n",
        "      pdf_file = filename\n",
        "      message += \"PDF successfully uploaded!\\nPush play again and upload the CSV.\"\n",
        "    if filename.endswith(\".csv\"):\n",
        "      keyword_list_file = filename\n",
        "      message += \"CSV successfully uploaded!\\nPush play again and upload the PDF.\"\n",
        "\n",
        "try:\n",
        "    comment_pdf(input_file=\"/content/\"+pdf_file, list_filename_csv=\"/content/\"+keyword_list_file)\n",
        "except:\n",
        "    print(message)\n"
      ],
      "metadata": {
        "id": "cwnSRL4Omn0d"
      },
      "execution_count": null,
      "outputs": []
    },
    {
      "cell_type": "code",
      "source": [
        "#@title RESET: click the play button below to remove all files, then upload a new pair of files in step C.{display-mode: \"form\"}\n",
        "!rm summary.txt\n",
        "!rm *csv\n",
        "!rm *.pdf\n",
        "print('All files removed!\\nReady to upload new files.')"
      ],
      "metadata": {
        "id": "yJ-0NdW-PamV",
        "colab": {
          "base_uri": "https://localhost:8080/"
        },
        "outputId": "5084f89c-1ead-43d8-81d7-d2f557997ef9"
      },
      "execution_count": null,
      "outputs": [
        {
          "output_type": "stream",
          "name": "stdout",
          "text": [
            "All files removed!\n",
            "Ready to upload new files.\n"
          ]
        }
      ]
    }
  ]
}