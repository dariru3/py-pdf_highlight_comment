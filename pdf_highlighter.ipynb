{
  "nbformat": 4,
  "nbformat_minor": 0,
  "metadata": {
    "colab": {
      "provenance": [],
      "authorship_tag": "ABX9TyMr+H8ExzcLuGEzOj8ULC7P",
      "include_colab_link": true
    },
    "kernelspec": {
      "name": "python3",
      "display_name": "Python 3"
    },
    "language_info": {
      "name": "python"
    }
  },
  "cells": [
    {
      "cell_type": "markdown",
      "metadata": {
        "id": "view-in-github",
        "colab_type": "text"
      },
      "source": [
        "<a href=\"https://colab.research.google.com/github/dariru3/py-comment_pdf/blob/main/pdf_highlighter.ipynb\" target=\"_parent\"><img src=\"https://colab.research.google.com/assets/colab-badge.svg\" alt=\"Open In Colab\"/></a>"
      ]
    },
    {
      "cell_type": "code",
      "source": [
        "!pip install pymupdf\n",
        "!pip install frontend"
      ],
      "metadata": {
        "id": "fs5bti1oK7iS"
      },
      "execution_count": null,
      "outputs": []
    },
    {
      "cell_type": "code",
      "execution_count": null,
      "metadata": {
        "id": "qTSWiNvOA91p"
      },
      "outputs": [],
      "source": [
        "def comment_pdf(input_file:str, list_filename_csv:str, output_file:str, pages:list=None):\n",
        "    import fitz, csv\n",
        "    comment_title = \"Python Highlighter\"\n",
        "    colors = {\"red\": [0.7, 0.35, 0.5], \"green\": [0.35, 0.7, 0.5], \"blue\": [0.35, 0.5, 0.7]}\n",
        "    with open(list_filename_csv, 'r') as csv_data:\n",
        "        csv_reader = csv.reader(csv_data)\n",
        "        header = next(csv_reader) # skips the first row\n",
        "        search_list = [row for row in csv_reader]\n",
        "\n",
        "    pdfIn = fitz.open(input_file)\n",
        "    \n",
        "    # create matches dictionary for output summary\n",
        "    matches_record = {search[0]: 0 for search in search_list}\n",
        "    \n",
        "    # Iterate throughout the document pages\n",
        "    for pg,page in enumerate(pdfIn):\n",
        "        pageID = pg+1\n",
        "        # If required for specific pages\n",
        "        if pages and pageID not in pages:\n",
        "            continue\n",
        "\n",
        "        # Use the search_for function to find the text\n",
        "        for search_settings in search_list:\n",
        "            word, comment, color = search_settings\n",
        "            matched_values = page.search_for(word,hit_max=20)\n",
        "            if matched_values:\n",
        "                matches_record[word] += len(matched_values)\n",
        "                #Loop through the matched values; item will contain the coordinates of the found text\n",
        "                for item in matched_values:\n",
        "                    # Highlight found text\n",
        "                    annot = page.add_highlight_annot(item)\n",
        "                    if color:\n",
        "                        annot.set_colors(stroke=colors[color])\n",
        "                    # Add comment to the found match\n",
        "                    info = annot.info\n",
        "                    info[\"title\"] = comment_title\n",
        "                    info[\"content\"] = comment\n",
        "                    annot.set_info(info)\n",
        "                    annot.update()\n",
        "    \n",
        "    #Save to output file\n",
        "    pdfIn.save(output_file,garbage=3,deflate=True)\n",
        "    pdfIn.close()\n",
        "\n",
        "    #Process Summary\n",
        "    summary = {\n",
        "        \"Input File\": input_file\n",
        "        , \"Output File\": output_file\n",
        "        , \"Comment Title\": comment_title\n",
        "        , \"Matching Instances\": \"\\n\" + \"\\n\".join(\"{}: {}\".format(word, count) for word, count in matches_record.items())\n",
        "    }\n",
        "\n",
        "    # Export Process Summary\n",
        "    with open('summary.txt', 'w') as summary_txt:\n",
        "        summary_txt.write(\"\\n\".join(\"{}: {}\".format(i, j) for i, j in summary.items()))\n",
        "\n",
        "comment_pdf(input_file=\"/content/final_test_2022.pdf\"\n",
        "            , list_filename_csv=\"/content/Sample Glossary for Daryl.csv\"\n",
        "            , output_file=\"/content/final_test_2022 comments.pdf\"\n",
        "            )"
      ]
    }
  ]
}