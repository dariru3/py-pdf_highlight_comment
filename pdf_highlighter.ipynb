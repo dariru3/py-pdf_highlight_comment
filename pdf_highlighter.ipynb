{
  "nbformat": 4,
  "nbformat_minor": 0,
  "metadata": {
    "colab": {
      "provenance": [],
      "authorship_tag": "ABX9TyMbtHG7vOj+fvox4n1JhDmN"
    },
    "kernelspec": {
      "name": "python3",
      "display_name": "Python 3"
    },
    "language_info": {
      "name": "python"
    }
  },
  "cells": [
    {
      "cell_type": "code",
      "source": [
        "!pip install pymupdf\n",
        "!pip install frontend"
      ],
      "metadata": {
        "id": "fs5bti1oK7iS"
      },
      "execution_count": null,
      "outputs": []
    },
    {
      "cell_type": "code",
      "execution_count": 6,
      "metadata": {
        "id": "qTSWiNvOA91p"
      },
      "outputs": [],
      "source": [
        "def comment_pdf(input_file:str, list_filename_csv:str, pages:list=None):\n",
        "    import fitz\n",
        "    from google.colab import files\n",
        "\n",
        "    comment_title = \"Python Highlighter\"\n",
        "    search_list = read_csv(list_filename_csv)\n",
        "    # create matches dictionary for output summary\n",
        "    matches_record = {search[0]: 0 for search in search_list}\n",
        "    # open pdf\n",
        "    pdfIn = fitz.open(input_file)\n",
        "    # Iterate throughout pdf pages\n",
        "    for pg,page in enumerate(pdfIn):\n",
        "        pageID = pg+1\n",
        "        # If required to look in specific pages\n",
        "        if pages and pageID not in pages:\n",
        "            continue\n",
        "        # Use the search_for function to find text\n",
        "        for search_settings in search_list:\n",
        "            word, comment, color = search_settings\n",
        "            matched_values = page.search_for(word,hit_max=20)\n",
        "            if matched_values:\n",
        "                # Update matches_record\n",
        "                matches_record[word] += len(matched_values)\n",
        "                highlight_text(matched_values, page, color, comment_title, comment)\n",
        "    \n",
        "    # Save to output file\n",
        "    output_file = input_file.split(\".\")[0] + \" comments.pdf\"\n",
        "    pdfIn.save(output_file,garbage=3,deflate=True)\n",
        "    pdfIn.close()\n",
        "    \n",
        "    create_summary(input_file, output_file, comment_title, matches_record)\n",
        "    files.download(output_file)\n",
        "    files.download('summary.txt')\n",
        "\n",
        "def read_csv(list_filename_csv):\n",
        "    import csv\n",
        "    with open(list_filename_csv, 'r') as csv_data:\n",
        "        csv_reader = csv.reader(csv_data)\n",
        "        header = next(csv_reader) # skips the first row\n",
        "        search_list = [row for row in csv_reader]\n",
        "    return search_list\n",
        "\n",
        "def highlight_text(matched_values, page, color, comment_title, comment):\n",
        "    colors = {\n",
        "        \"red\": [0.7, 0.35, 0.5],\n",
        "        \"green\": [0.35, 0.7, 0.5],\n",
        "        \"blue\": [0.35, 0.5, 0.7]\n",
        "    }\n",
        "    for item in matched_values:\n",
        "        # Highlight found text\n",
        "        annot = page.add_highlight_annot(item)\n",
        "        if color:\n",
        "            annot.set_colors(stroke=colors[color])\n",
        "        # Add comment to the found match\n",
        "        info = annot.info\n",
        "        info[\"title\"] = comment_title\n",
        "        info[\"content\"] = comment\n",
        "        annot.set_info(info)\n",
        "        annot.update()\n",
        "\n",
        "def create_summary(input_file, output_file, comment_title, matches_record):\n",
        "    summary = {\n",
        "         \"Input File\": input_file\n",
        "       , \"Output File\": output_file\n",
        "       , \"Comment Title\": comment_title\n",
        "       , \"Matching Instances\": \"\\n\" + \"\\n\".join(\"{}: {}\".format(word, count) for word, count in matches_record.items())\n",
        "    }\n",
        "    # Export Process Summary\n",
        "    with open('summary.txt', 'w') as summary_txt:\n",
        "        summary_txt.write(\"\\n\".join(\"{}: {}\".format(i, j) for i, j in summary.items()))\n",
        "    \n",
        "\n"
      ]
    },
    {
      "cell_type": "code",
      "source": [
        "comment_pdf(input_file=\"/content/report 2021 EN.pdf\", list_filename_csv=\"/content/scan_list.csv\")"
      ],
      "metadata": {
        "colab": {
          "base_uri": "https://localhost:8080/",
          "height": 17
        },
        "id": "cwnSRL4Omn0d",
        "outputId": "f384147a-d1ae-4b06-a97d-a9f6de54955f"
      },
      "execution_count": 7,
      "outputs": [
        {
          "output_type": "display_data",
          "data": {
            "text/plain": [
              "<IPython.core.display.Javascript object>"
            ],
            "application/javascript": [
              "\n",
              "    async function download(id, filename, size) {\n",
              "      if (!google.colab.kernel.accessAllowed) {\n",
              "        return;\n",
              "      }\n",
              "      const div = document.createElement('div');\n",
              "      const label = document.createElement('label');\n",
              "      label.textContent = `Downloading \"${filename}\": `;\n",
              "      div.appendChild(label);\n",
              "      const progress = document.createElement('progress');\n",
              "      progress.max = size;\n",
              "      div.appendChild(progress);\n",
              "      document.body.appendChild(div);\n",
              "\n",
              "      const buffers = [];\n",
              "      let downloaded = 0;\n",
              "\n",
              "      const channel = await google.colab.kernel.comms.open(id);\n",
              "      // Send a message to notify the kernel that we're ready.\n",
              "      channel.send({})\n",
              "\n",
              "      for await (const message of channel.messages) {\n",
              "        // Send a message to notify the kernel that we're ready.\n",
              "        channel.send({})\n",
              "        if (message.buffers) {\n",
              "          for (const buffer of message.buffers) {\n",
              "            buffers.push(buffer);\n",
              "            downloaded += buffer.byteLength;\n",
              "            progress.value = downloaded;\n",
              "          }\n",
              "        }\n",
              "      }\n",
              "      const blob = new Blob(buffers, {type: 'application/binary'});\n",
              "      const a = document.createElement('a');\n",
              "      a.href = window.URL.createObjectURL(blob);\n",
              "      a.download = filename;\n",
              "      div.appendChild(a);\n",
              "      a.click();\n",
              "      div.remove();\n",
              "    }\n",
              "  "
            ]
          },
          "metadata": {}
        },
        {
          "output_type": "display_data",
          "data": {
            "text/plain": [
              "<IPython.core.display.Javascript object>"
            ],
            "application/javascript": [
              "download(\"download_3482b312-a8bb-4bd3-a31d-cc51625d7dff\", \"report 2021 EN comments.pdf\", 18074895)"
            ]
          },
          "metadata": {}
        },
        {
          "output_type": "display_data",
          "data": {
            "text/plain": [
              "<IPython.core.display.Javascript object>"
            ],
            "application/javascript": [
              "\n",
              "    async function download(id, filename, size) {\n",
              "      if (!google.colab.kernel.accessAllowed) {\n",
              "        return;\n",
              "      }\n",
              "      const div = document.createElement('div');\n",
              "      const label = document.createElement('label');\n",
              "      label.textContent = `Downloading \"${filename}\": `;\n",
              "      div.appendChild(label);\n",
              "      const progress = document.createElement('progress');\n",
              "      progress.max = size;\n",
              "      div.appendChild(progress);\n",
              "      document.body.appendChild(div);\n",
              "\n",
              "      const buffers = [];\n",
              "      let downloaded = 0;\n",
              "\n",
              "      const channel = await google.colab.kernel.comms.open(id);\n",
              "      // Send a message to notify the kernel that we're ready.\n",
              "      channel.send({})\n",
              "\n",
              "      for await (const message of channel.messages) {\n",
              "        // Send a message to notify the kernel that we're ready.\n",
              "        channel.send({})\n",
              "        if (message.buffers) {\n",
              "          for (const buffer of message.buffers) {\n",
              "            buffers.push(buffer);\n",
              "            downloaded += buffer.byteLength;\n",
              "            progress.value = downloaded;\n",
              "          }\n",
              "        }\n",
              "      }\n",
              "      const blob = new Blob(buffers, {type: 'application/binary'});\n",
              "      const a = document.createElement('a');\n",
              "      a.href = window.URL.createObjectURL(blob);\n",
              "      a.download = filename;\n",
              "      div.appendChild(a);\n",
              "      a.click();\n",
              "      div.remove();\n",
              "    }\n",
              "  "
            ]
          },
          "metadata": {}
        },
        {
          "output_type": "display_data",
          "data": {
            "text/plain": [
              "<IPython.core.display.Javascript object>"
            ],
            "application/javascript": [
              "download(\"download_16e033fd-4ac8-4842-adda-e82193ac3079\", \"summary.txt\", 191)"
            ]
          },
          "metadata": {}
        }
      ]
    }
  ]
}