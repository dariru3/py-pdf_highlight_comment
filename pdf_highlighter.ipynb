{
  "cells": [
    {
      "cell_type": "markdown",
      "metadata": {
        "colab_type": "text",
        "id": "view-in-github"
      },
      "source": [
        "<a href=\"https://colab.research.google.com/github/dariru3/py-comment_pdf/blob/main/pdf_highlighter.ipynb\" target=\"_parent\"><img src=\"https://colab.research.google.com/assets/colab-badge.svg\" alt=\"Open In Colab\"/></a>"
      ]
    },
    {
      "cell_type": "markdown",
      "metadata": {
        "id": "mHpCLlBhrqys"
      },
      "source": [
        "# Instructions\n",
        "\n",
        "How to run the code:\n",
        "1.   Hover the mouse around the \"Show code\" text to reveal the play button.\n",
        "2.   Press each button in succession. Scroll down if necessary to see the next button.\n",
        "3.   After the 3rd button, select the \"Choose Files\" button that appears. Select both the target PDF and the CSV with the list of key words.\n",
        "\n"
      ]
    },
    {
      "cell_type": "code",
      "execution_count": null,
      "metadata": {
        "id": "fs5bti1oK7iS"
      },
      "outputs": [],
      "source": [
        "#@title Press the play button to get the necessary internal files {display-mode: \"form\"}\n",
        "!pip install pymupdf\n",
        "!pip install frontend"
      ]
    },
    {
      "cell_type": "code",
      "execution_count": 2,
      "metadata": {
        "id": "qTSWiNvOA91p"
      },
      "outputs": [],
      "source": [
        "#@title Press the play button to initialize the script {display-mode: \"form\"}\n",
        "import fitz, csv\n",
        "from google.colab import files\n",
        "\n",
        "def comment_pdf(input_file:str, list_filename_csv:str, pages:list=None):\n",
        "    comment_title = \"Python Highlighter\"\n",
        "    search_list = read_csv(list_filename_csv)\n",
        "    # create matches dictionary for output summary\n",
        "    matches_record = {search[0]: 0 for search in search_list}\n",
        "    # open pdf\n",
        "    pdfIn = fitz.open(input_file)\n",
        "    # Iterate throughout pdf pages\n",
        "    for pg,page in enumerate(pdfIn):\n",
        "        pageID = pg+1\n",
        "        # If required to look in specific pages\n",
        "        if pages and pageID not in pages:\n",
        "            continue\n",
        "        # Use the search_for function to find text\n",
        "        for search_settings in search_list:\n",
        "            word, comment, color = search_settings\n",
        "            matched_values = page.search_for(word,hit_max=20)\n",
        "            if matched_values:\n",
        "                # Update matches_record\n",
        "                matches_record[word] += len(matched_values)\n",
        "                highlight_text(matched_values, page, color, comment_title, comment)\n",
        "    \n",
        "    # Save to output file\n",
        "    output_file = input_file.split(\".\")[0] + \" comments.pdf\"\n",
        "    pdfIn.save(output_file,garbage=3,deflate=True)\n",
        "    pdfIn.close()\n",
        "    \n",
        "    create_summary(input_file, output_file, comment_title, matches_record)\n",
        "\n",
        "    if output_file:\n",
        "      files.download(output_file)\n",
        "      files.download('summary.txt')\n",
        "\n",
        "def read_csv(list_filename_csv):\n",
        "    with open(list_filename_csv, 'r') as csv_data:\n",
        "        csv_reader = csv.reader(csv_data)\n",
        "        header = next(csv_reader) # skips the first row\n",
        "        search_list = [row for row in csv_reader]\n",
        "    return search_list\n",
        "\n",
        "def highlight_text(matched_values, page, color, comment_title, comment):\n",
        "    colors = {\n",
        "        \"red\": [0.7, 0.35, 0.5],\n",
        "        \"green\": [0.35, 0.7, 0.5],\n",
        "        \"blue\": [0.35, 0.5, 0.7]\n",
        "    }\n",
        "    for item in matched_values:\n",
        "        # Highlight found text\n",
        "        annot = page.add_highlight_annot(item)\n",
        "        if color:\n",
        "            annot.set_colors(stroke=colors[color])\n",
        "        # Add comment to the found match\n",
        "        info = annot.info\n",
        "        info[\"title\"] = comment_title\n",
        "        info[\"content\"] = comment\n",
        "        annot.set_info(info)\n",
        "        annot.update()\n",
        "\n",
        "def create_summary(input_file, output_file, comment_title, matches_record):\n",
        "    summary = {\n",
        "         \"Input File\": input_file\n",
        "       , \"Output File\": output_file\n",
        "       , \"Comment Title\": comment_title\n",
        "       , \"Matching Instances\": \"\\n\" + \"\\n\".join(\"{}: {}\".format(word, count) for word, count in matches_record.items())\n",
        "    }\n",
        "    # Export Process Summary\n",
        "    with open('summary.txt', 'w') as summary_txt:\n",
        "        summary_txt.write(\"\\n\".join(\"{}: {}\".format(i, j) for i, j in summary.items()))\n",
        "    \n",
        "\n"
      ]
    },
    {
      "cell_type": "code",
      "execution_count": null,
      "metadata": {
        "id": "cwnSRL4Omn0d"
      },
      "outputs": [],
      "source": [
        "#@title Press the play button then select two files to upload {display-mode: \"form\"}\n",
        "from google.colab import files\n",
        "\n",
        "uploaded = files.upload()\n",
        "for filename in uploaded:\n",
        "  if filename.endswith(\".pdf\"):\n",
        "    upload_file = filename\n",
        "  if filename.endswith(\".csv\"):\n",
        "    keyword_list_file = filename\n",
        "\n",
        "try:\n",
        "  comment_pdf(input_file=\"/content/\"+upload_file, list_filename_csv=\"/content/\"+keyword_list_file)\n",
        "except:\n",
        "  print(\"File(s) not found. Try upload again.\")\n"
      ]
    },
    {
      "cell_type": "markdown",
      "metadata": {
        "id": "w1X4T54JqzKT"
      },
      "source": [
        "# How to select multiple files in upload dialog\n",
        "\n",
        "Win: ctrl + left click\n",
        "\n",
        "Mac: cmd + left click"
      ]
    }
  ],
  "metadata": {
    "colab": {
      "authorship_tag": "ABX9TyNKcZkjOFG8puZBDkXFchto",
      "include_colab_link": true,
      "provenance": []
    },
    "kernelspec": {
      "display_name": "env",
      "language": "python",
      "name": "python3"
    },
    "language_info": {
      "name": "python",
      "version": "3.8.9"
    },
    "vscode": {
      "interpreter": {
        "hash": "cc2db3476f5f7c505d02db0ec0a6e318148010c85a8761cde57b10492c33f417"
      }
    }
  },
  "nbformat": 4,
  "nbformat_minor": 0
}
